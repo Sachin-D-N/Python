{
 "cells": [
  {
   "cell_type": "code",
   "execution_count": 1,
   "metadata": {},
   "outputs": [
    {
     "name": "stdout",
     "output_type": "stream",
     "text": [
      "['False', 'None', 'True', 'and', 'as', 'assert', 'async', 'await', 'break', 'class', 'continue', 'def', 'del', 'elif', 'else', 'except', 'finally', 'for', 'from', 'global', 'if', 'import', 'in', 'is', 'lambda', 'nonlocal', 'not', 'or', 'pass', 'raise', 'return', 'try', 'while', 'with', 'yield']\n"
     ]
    },
    {
     "data": {
      "text/plain": [
       "35"
      ]
     },
     "execution_count": 1,
     "metadata": {},
     "output_type": "execute_result"
    }
   ],
   "source": [
    "#to know the keywords in python\n",
    "import keyword;\n",
    "print(keyword.kwlist)  # total keywords in the python\n",
    "len(keyword.kwlist)"
   ]
  },
  {
   "cell_type": "code",
   "execution_count": null,
   "metadata": {},
   "outputs": [],
   "source": [
    "#NONE\n",
    "#This program has a function that does not return a value, although it does some operations inside. So when we print x, we\n",
    "# get None which is returned automatically (implicitly). Similarly, here is another example:\n",
    "def improper_return_function(a):\n",
    "    if (a % 2) == 0:\n",
    "        return True\n",
    "x = improper_return_function(3)  #it returns the None\n",
    "print(x)\n",
    "\n",
    "\"\"\"We must take special care that None does not imply False, 0 or any empty list, dictionary, string etc. For example:\"\"\"\n",
    "\n",
    "None == 0\n",
    "False\n",
    "None == []\n",
    "False\n",
    "None == False\n",
    "False\n",
    "x = None\n",
    "y = None\n",
    "x == y\n",
    "True\n",
    "\n",
    "\"\"\"Void functions that do not return anything will return a None object automatically. None is also\n",
    " returned by functions in which the program flow does not encounter a return statement. For example:\"\"\"\n",
    " \n",
    "def a_void_function():\n",
    "    a = 1\n",
    "    b = 2\n",
    "    c = a + b                #it also returns none\n",
    "x = a_void_function()\n",
    "print(x)\n"
   ]
  },
  {
   "cell_type": "code",
   "execution_count": 2,
   "metadata": {},
   "outputs": [
    {
     "data": {
      "text/plain": [
       "True"
      ]
     },
     "execution_count": 2,
     "metadata": {},
     "output_type": "execute_result"
    }
   ],
   "source": [
    "#and, or , not\n",
    "#and, or, not are the logical operators in Python. and will result into True only if both the operands are True. The truth table for and is given below:\n",
    "\n",
    "#Truth table for and\n",
    "\"\"\"A\tB\tA and B\n",
    "True\tTrue\tTrue\n",
    "True\tFalse\tFalse\n",
    "False\tTrue\tFalse\n",
    "False\tFalse\tFalse\n",
    "\n",
    "#or will result into True if any of the operands is True. The truth table for or is given below:\n",
    "\n",
    "#Truth table for or\n",
    "A\tB\tA or B\n",
    "True\tTrue\tTrue\n",
    "True\tFalse\tTrue\n",
    "False\tTrue\tTrue\n",
    "False\tFalse\tFalse\n",
    "\n",
    "#not operator is used to invert the truth value. The truth table for not is given below:\n",
    "\n",
    "#Truth tabel for not\n",
    "A\tnot A\n",
    "True\tFalse\n",
    "False\tTrue\n",
    "some example of their usage are given below\"\"\"\n",
    "\n",
    "True and False\n",
    "False\n",
    "True or False\n",
    "True\n",
    "not False\n",
    "True"
   ]
  },
  {
   "cell_type": "code",
   "execution_count": 3,
   "metadata": {},
   "outputs": [
    {
     "data": {
      "text/plain": [
       "1.2246467991473532e-16"
      ]
     },
     "execution_count": 3,
     "metadata": {},
     "output_type": "execute_result"
    }
   ],
   "source": [
    "#As\n",
    "\"\"\"as is used to create an alias while importing a module. It means giving a different name (user-defined) to a module while importing it.\n",
    "As for example, Python has a standard module called math. Suppose \n",
    "we want to calculate what cosine pi is using an alias. We can do it as follows using as:\"\"\"\n",
    "\n",
    "import math as myAlias\n",
    "myAlias.cos(myAlias.pi) #ans = -1\n",
    "\n",
    "myAlias.sin(myAlias.pi) #ans 1.2246467991473532e-16\n"
   ]
  },
  {
   "cell_type": "code",
   "execution_count": 4,
   "metadata": {},
   "outputs": [
    {
     "ename": "AssertionError",
     "evalue": "",
     "output_type": "error",
     "traceback": [
      "\u001b[1;31m---------------------------------------------------------------------------\u001b[0m",
      "\u001b[1;31mAssertionError\u001b[0m                            Traceback (most recent call last)",
      "\u001b[1;32m<ipython-input-4-03f0b1eed82d>\u001b[0m in \u001b[0;36m<module>\u001b[1;34m\u001b[0m\n\u001b[0;32m      8\u001b[0m \u001b[0ma\u001b[0m \u001b[1;33m=\u001b[0m \u001b[1;36m4\u001b[0m\u001b[1;33m\u001b[0m\u001b[1;33m\u001b[0m\u001b[0m\n\u001b[0;32m      9\u001b[0m \u001b[1;32massert\u001b[0m \u001b[0ma\u001b[0m \u001b[1;33m<\u001b[0m \u001b[1;36m5\u001b[0m\u001b[1;33m\u001b[0m\u001b[1;33m\u001b[0m\u001b[0m\n\u001b[1;32m---> 10\u001b[1;33m \u001b[1;32massert\u001b[0m \u001b[0ma\u001b[0m \u001b[1;33m>\u001b[0m \u001b[1;36m5\u001b[0m\u001b[1;33m\u001b[0m\u001b[1;33m\u001b[0m\u001b[0m\n\u001b[0m\u001b[0;32m     11\u001b[0m \u001b[1;31m#Traceback (most recent call last):\u001b[0m\u001b[1;33m\u001b[0m\u001b[1;33m\u001b[0m\u001b[1;33m\u001b[0m\u001b[0m\n\u001b[0;32m     12\u001b[0m  \u001b[1;31m# File \"<string>\", line 301, in runcode\u001b[0m\u001b[1;33m\u001b[0m\u001b[1;33m\u001b[0m\u001b[1;33m\u001b[0m\u001b[0m\n",
      "\u001b[1;31mAssertionError\u001b[0m: "
     ]
    }
   ],
   "source": [
    "#assert\n",
    "#assert is used for debugging purposes.\n",
    "\n",
    "#While programming, sometimes we wish to know the internal state or check if our assumptions are true. assert helps us do this and find bugs more conveniently. assert is followed by a condition.\n",
    "\n",
    "#If the condition is true, nothing happens. But if the condition is false, AssertionError is raised. For example:\"\"\"\"\n",
    "\n",
    "a = 4\n",
    "assert a < 5\n",
    "assert a > 5\n",
    "#Traceback (most recent call last):\n",
    " # File \"<string>\", line 301, in runcode\n",
    "  #File \"<interactive input>\", line 1, in <module>\n",
    "#AssertionError\n",
    "#For our better understanding, we can also provide a message to be printed with the AssertionError\"\"\"\"\n",
    "\n",
    "a = 4\n",
    "assert a > 5, \"The value of a is too small\"\n",
    "\n",
    "#Traceback (most recent call last):\n",
    " # File \"<string>\", line 301, in runcode\n",
    "  #File \"<interactive input>\", line 1, in <module>\n",
    "#AssertionError: The value of a is too small\n",
    "#At this point we can note that,\"\"\"\"\n",
    "\n",
    "#\"\"\"\"assert condition, message\n",
    "#is equivalent to,\n",
    "\n",
    "#if not condition:\n",
    "   # raise AssertionError(message)\"\"\"\""
   ]
  },
  {
   "cell_type": "raw",
   "metadata": {},
   "source": [
    "break, continue\n",
    "break and continue are used inside for and while loops to alter their normal behavior.\n",
    "\n",
    "break will end the smallest loop it is in and control flows to the statement immediately below the loop. continue causes to end the current iteration of the loop, but not the whole loop."
   ]
  },
  {
   "cell_type": "code",
   "execution_count": 5,
   "metadata": {},
   "outputs": [
    {
     "name": "stdout",
     "output_type": "stream",
     "text": [
      "1\n",
      "2\n",
      "3\n",
      "4\n"
     ]
    }
   ],
   "source": [
    "#This can be illustrated with the following two examples:\n",
    "\n",
    "for i in range(1,11):\n",
    "    if i == 5:\n",
    "        break\n",
    "    print(i)"
   ]
  },
  {
   "cell_type": "raw",
   "metadata": {},
   "source": [
    "Here, the for loop intends to print numbers from 1 to 10. But the if condition is met when i is equal to 5 and we break from the loop. Thus, only the range 1 to 4 is printed."
   ]
  },
  {
   "cell_type": "code",
   "execution_count": 6,
   "metadata": {},
   "outputs": [
    {
     "name": "stdout",
     "output_type": "stream",
     "text": [
      "1\n",
      "2\n",
      "3\n",
      "4\n",
      "6\n",
      "7\n",
      "8\n",
      "9\n",
      "10\n"
     ]
    }
   ],
   "source": [
    "for i in range(1,11):\n",
    "    if i == 5:\n",
    "        continue\n",
    "    print(i)"
   ]
  },
  {
   "cell_type": "raw",
   "metadata": {},
   "source": [
    "Here we use continue for the same program. So, when the condition is met, that iteration is skipped. But we do not exit the loop. Hence, all the values except 5 is printed out."
   ]
  },
  {
   "cell_type": "raw",
   "metadata": {},
   "source": [
    "class\n",
    "class is used to define a new user-defined class in Python.\n",
    "\n",
    "Class is a collection of related attributes and methods that try to represent a real world situation. This idea of putting data and functions together in a class is central to the concept of object-oriented programming (OOP).\n",
    "\n",
    "Classes can be defined anywhere in a program. But it is a good practice to define a single class in a module. Following is a sample usage:"
   ]
  },
  {
   "cell_type": "raw",
   "metadata": {},
   "source": [
    "#class\n",
    "class ExampleClass:\n",
    "    def function1(parameters):\n",
    "        …\n",
    "    def function2(parameters):\n",
    "        …"
   ]
  },
  {
   "cell_type": "raw",
   "metadata": {},
   "source": [
    "#def\n",
    "def is used to define a user-defined function.\n",
    "\n",
    "Function is a block of related statements, which together does some specific task. It helps us organize code into manageable chunks and also to do some repetitive task.\n",
    "def function_name(parameters):\n",
    "    …"
   ]
  },
  {
   "cell_type": "code",
   "execution_count": 7,
   "metadata": {},
   "outputs": [
    {
     "data": {
      "text/plain": [
       "5"
      ]
     },
     "execution_count": 7,
     "metadata": {},
     "output_type": "execute_result"
    }
   ],
   "source": [
    "#del\n",
    "\"\"\"del is used to delete the reference to an object. \n",
    "Everything is object in Python. We can delete a variable reference using del\"\"\"\n",
    "a = b = 5\n",
    "del a\n",
    "#a\n",
    "\"\"\"Traceback (most recent call last):\n",
    "  File \"<string>\", line 301, in runcode\n",
    "  File \"<interactive input>\", line 1, in <module>\n",
    "NameError: name 'a' is not defined\"\"\"\n",
    "b\n",
    "#5"
   ]
  },
  {
   "cell_type": "raw",
   "metadata": {},
   "source": [
    "Here we can see that the reference of the variable a was deleted. So, it is no longer defined. But b still exists."
   ]
  },
  {
   "cell_type": "code",
   "execution_count": 8,
   "metadata": {},
   "outputs": [
    {
     "data": {
      "text/plain": [
       "['x', 'z']"
      ]
     },
     "execution_count": 8,
     "metadata": {},
     "output_type": "execute_result"
    }
   ],
   "source": [
    "#del is also used to delete items from a list or a dictionary:\n",
    "a = ['x','y','z']\n",
    "del a[1]\n",
    "a\n",
    "['x', 'z']"
   ]
  },
  {
   "cell_type": "code",
   "execution_count": null,
   "metadata": {},
   "outputs": [],
   "source": [
    "#if ,else,elif"
   ]
  },
  {
   "cell_type": "raw",
   "metadata": {},
   "source": [
    "if, else, elif\n",
    "if, else, elif are used for conditional branching or decision making.\n",
    "\n",
    "When we want to test some condition and execute a block only if the condition is true, then we use if and elif. elif is short for else if. else is the block which is executed if the condition is false. This will be clear with the following example:\n",
    "\n",
    "def if_example(a):\n",
    "    if a == 1:\n",
    "        print('One')\n",
    "    elif a == 2:\n",
    "        print('Two')\n",
    "    else:\n",
    "        print('Something else')\n",
    "if_example(2)\n",
    "if_example(4)\n",
    "if_example(1)\n",
    "Output\n",
    "\n",
    "Two\n",
    "Something else\n",
    "One\n",
    "Here, the function checks the input number and prints the result if it is 1 or 2. Any input other than this will cause the else part of the code to execute."
   ]
  },
  {
   "cell_type": "code",
   "execution_count": null,
   "metadata": {},
   "outputs": [],
   "source": [
    "#Except,raise,try"
   ]
  },
  {
   "cell_type": "raw",
   "metadata": {},
   "source": [
    "except, raise, try\n",
    "except, raise, try are used with exceptions in Python.\n",
    "\n",
    "Exceptions are basically errors that suggests something went wrong while executing our program. IOError, ValueError, ZeroDivisionError, ImportError, NameError, TypeError etc. are few examples of exception in Python. try...except blocks are used to catch exceptions in Python.\n",
    "\n",
    "We can raise an exception explicitly with the raise keyword. Following is an example:\n",
    "\n",
    "def reciprocal(num):\n",
    "    try:\n",
    "        r = 1/num\n",
    "    except:\n",
    "        print('Exception caught')\n",
    "        return\n",
    "    return r\n",
    "print(reciprocal(10))\n",
    "print(reciprocal(0))\n",
    "Output\n",
    "\n",
    "0.1\n",
    "Exception caught\n",
    "None\n",
    "Here, the function reciprocal() returns the reciprocal of the input number.\n",
    "\n",
    "When we enter 10, we get the normal output of 0.1. But when we input 0, a ZeroDivisionError is raised automatically.\n",
    "\n",
    "This is caught by our try…except block and we return None. We could have also raised the ZeroDivisionError explicitly by checking the input and handled it elsewhere as follows:\n",
    "\n",
    "if num == 0:\n",
    "    raise ZeroDivisionError('cannot divide')\n",
    "finally\n",
    "finally is used with try…except block to close up resources or file streams.\n",
    "\n",
    "Using finally ensures that the block of code inside it gets executed even if there is an unhandled exception. For example:\n",
    "\n",
    "try:\n",
    "    Try-block\n",
    "except exception1:\n",
    "    Exception1-block\n",
    "except exception2:\n",
    "    Exception2-block\n",
    "else:\n",
    "    Else-block\n",
    "finally:\n",
    "    Finally-block\n",
    "Here if there is an exception in the Try-block, it is handled in the except or else block. But no matter in what order the execution flows, we can rest assured that the Finally-block is executed even if there is an error. This is useful in cleaning up the resources."
   ]
  },
  {
   "cell_type": "code",
   "execution_count": 9,
   "metadata": {},
   "outputs": [],
   "source": [
    "#for"
   ]
  },
  {
   "cell_type": "code",
   "execution_count": 12,
   "metadata": {},
   "outputs": [
    {
     "name": "stdout",
     "output_type": "stream",
     "text": [
      "Hello John\n",
      "Hello Monica\n",
      "Hello Steven\n",
      "Hello Robin\n"
     ]
    }
   ],
   "source": [
    "#for is used for looping. Generally we use for when we know the number of times we want to loop.\n",
    "\n",
    "#In Python we can use it with any type of sequence like a list or a string. Here is an example in which for is used to traverse through a list of names:\n",
    "\n",
    "names = ['John','Monica','Steven','Robin']\n",
    "for i in names:\n",
    "    print('Hello '+i)"
   ]
  },
  {
   "cell_type": "code",
   "execution_count": 13,
   "metadata": {},
   "outputs": [],
   "source": [
    "#from, import\n",
    "#import keyword is used to import modules into the current namespace. from…import is used to import specific attributes or functions into the current namespace. For example:\n",
    "\n",
    "import math\n",
    "#will import the math module. Now we can use the cos() function inside it as math.cos(). But if we wanted to import just the cos() function, this can done using from as\n",
    "\n",
    "from math import cos\n",
    "#now we can use the function simply as cos(), no need to write math.cos().\n"
   ]
  },
  {
   "cell_type": "code",
   "execution_count": 14,
   "metadata": {},
   "outputs": [],
   "source": [
    "#global"
   ]
  },
  {
   "cell_type": "raw",
   "metadata": {},
   "source": [
    "global\n",
    "global is used to declare that a variable inside the function is global (outside the function).\n",
    "\n",
    "If we need to read the value of a global variable, it is not necessary to define it as global. This is understood.\n",
    "\n",
    "If we need to modify the value of a global variable inside a function, then we must declare it with global. Otherwise a local variable with that name is created.\n",
    "\n",
    "Following example will help us clarify this."
   ]
  },
  {
   "cell_type": "code",
   "execution_count": 15,
   "metadata": {},
   "outputs": [
    {
     "name": "stdout",
     "output_type": "stream",
     "text": [
      "10\n",
      "5\n",
      "5\n"
     ]
    }
   ],
   "source": [
    "globvar = 10\n",
    "def read1():\n",
    "    print(globvar)\n",
    "def write1():\n",
    "    global globvar\n",
    "    globvar = 5\n",
    "def write2():\n",
    "    globvar = 15\n",
    "read1()\n",
    "write1()\n",
    "read1()\n",
    "write2()\n",
    "read1()"
   ]
  },
  {
   "cell_type": "raw",
   "metadata": {},
   "source": [
    "Here, the read1() function is just reading the value of globvar. So, we do not need to declare it as global. But the write1() function is modifying the value, so we need to declare the variable as global.\n",
    "\n",
    "We can see in our output that the modification did take place (10 is changed to 5). The write2() also tries to modify this value. But we have not declared it as global.\n",
    "\n",
    "Hence, a new local variable globvar is created which is not visible outside this function. Although we modify this local variable to 15, the global variable remains unchanged. This is clearly visible in our output."
   ]
  },
  {
   "cell_type": "code",
   "execution_count": 16,
   "metadata": {},
   "outputs": [],
   "source": [
    "#in"
   ]
  },
  {
   "cell_type": "code",
   "execution_count": 17,
   "metadata": {},
   "outputs": [
    {
     "data": {
      "text/plain": [
       "False"
      ]
     },
     "execution_count": 17,
     "metadata": {},
     "output_type": "execute_result"
    }
   ],
   "source": [
    "#in is used to test if a sequence (list, tuple, string etc.) contains a value. It returns True if the value is present, else it returns False. For example:\n",
    "\n",
    "a = [1, 2, 3, 4, 5]\n",
    "5 in a\n",
    "#True\n",
    "10 in a\n",
    "#False\n",
    "#The secondary use of in is to traverse through a sequence in a for loop.\n",
    "\n",
    "#for i in 'hello':\n",
    "    #print(i)"
   ]
  },
  {
   "cell_type": "code",
   "execution_count": 18,
   "metadata": {},
   "outputs": [],
   "source": [
    "#is"
   ]
  },
  {
   "cell_type": "code",
   "execution_count": 19,
   "metadata": {},
   "outputs": [
    {
     "data": {
      "text/plain": [
       "True"
      ]
     },
     "execution_count": 19,
     "metadata": {},
     "output_type": "execute_result"
    }
   ],
   "source": [
    "#is\n",
    "#is is used in Python for testing object identity. While the == operator is used to test if two variables are equal or not, is is used to test if the two variables refer to the same object.\n",
    "\n",
    "#It returns True if the objects are identical and False if not.\n",
    "\n",
    "True is True\n",
    "#True\n",
    "False is False\n",
    "#True\n",
    "None is None\n",
    "#True\n",
    "#We know that there is only one instance of True, False and None in Python, so they are identical."
   ]
  },
  {
   "cell_type": "raw",
   "metadata": {},
   "source": [
    "#An empty list or dictionary is equal to another empty one. But they are not identical objects as they are located separately in memory. This is because list and dictionary are mutable (value can be changed)."
   ]
  },
  {
   "cell_type": "code",
   "execution_count": 20,
   "metadata": {},
   "outputs": [
    {
     "data": {
      "text/plain": [
       "True"
      ]
     },
     "execution_count": 20,
     "metadata": {},
     "output_type": "execute_result"
    }
   ],
   "source": [
    "[] == []\n",
    "#True\n",
    "[] is []\n",
    "#False\n",
    "{} == {}\n",
    "#True\n",
    "#{} is {}\n",
    "#False"
   ]
  },
  {
   "cell_type": "markdown",
   "metadata": {},
   "source": [
    "#Unlike list and dictionary, string and tuple are immutable (value cannot be altered once defined). Hence, two equal string or tuple are identical as well. They refer to the same memory location."
   ]
  },
  {
   "cell_type": "code",
   "execution_count": 21,
   "metadata": {},
   "outputs": [
    {
     "data": {
      "text/plain": [
       "True"
      ]
     },
     "execution_count": 21,
     "metadata": {},
     "output_type": "execute_result"
    }
   ],
   "source": [
    "'' == ''\n",
    "#True\n",
    "'' is ''\n",
    "#True\n",
    "() == ()\n",
    "#True\n",
    "() is ()\n",
    "#True"
   ]
  },
  {
   "cell_type": "code",
   "execution_count": null,
   "metadata": {},
   "outputs": [],
   "source": [
    "#lamda"
   ]
  },
  {
   "cell_type": "raw",
   "metadata": {},
   "source": [
    "lambda\n",
    "lambda is used to create an anonymous function (function with no name). It is an inline function that does not contain a return statement. It consists of an expression that is evaluated and returned. For example:\n",
    "The lambda function can take many arguments but can return only one expression. Here the expression is nothing but the result returned by the lambda function. ... You can use them as an anonymous function inside other functions. The lambda functions do not need a return statement, they always return a single expression"
   ]
  },
  {
   "cell_type": "code",
   "execution_count": 22,
   "metadata": {},
   "outputs": [
    {
     "name": "stdout",
     "output_type": "stream",
     "text": [
      "2\n",
      "4\n",
      "6\n",
      "8\n",
      "10\n"
     ]
    }
   ],
   "source": [
    "a = lambda x: x*2\n",
    "for i in range(1,6):\n",
    "    print(a(i))"
   ]
  },
  {
   "cell_type": "code",
   "execution_count": 23,
   "metadata": {},
   "outputs": [],
   "source": [
    "#non local"
   ]
  },
  {
   "cell_type": "raw",
   "metadata": {},
   "source": [
    "nonlocal\n",
    "The use of nonlocal keyword is very much similar to the global keyword. nonlocal is used to declare that a variable inside a nested function (function inside a function) is not local to it, meaning it lies in the outer inclosing function. If we need to modify the value of a non-local variable inside a nested function, then we must declare it with nonlocal. Otherwise a local variable with that name is created inside the nested function. Following example will help us clarify this."
   ]
  },
  {
   "cell_type": "code",
   "execution_count": 24,
   "metadata": {},
   "outputs": [
    {
     "name": "stdout",
     "output_type": "stream",
     "text": [
      "Inner function:  10\n",
      "Outer function:  10\n"
     ]
    }
   ],
   "source": [
    "def outer_function():\n",
    "    a = 5\n",
    "    def inner_function():\n",
    "        nonlocal a\n",
    "        a = 10\n",
    "        print(\"Inner function: \",a)\n",
    "    inner_function()\n",
    "    print(\"Outer function: \",a)\n",
    "outer_function()\n",
    "#Here, the inner_function() is nested within the outer_function.\n",
    "\n",
    "#The variable a is in the outer_function(). So, if we want to modify it in the\n",
    "#inner_function(), we must declare it as nonlocal. Notice that a is not a global variable."
   ]
  },
  {
   "cell_type": "code",
   "execution_count": 25,
   "metadata": {},
   "outputs": [
    {
     "name": "stdout",
     "output_type": "stream",
     "text": [
      "Inner function:  10\n",
      "Outer function:  5\n"
     ]
    }
   ],
   "source": [
    "def outer_function():\n",
    "    a = 5\n",
    "    def inner_function():\n",
    "        a = 10\n",
    "        print(\"Inner function: \",a)\n",
    "    inner_function()\n",
    "    print(\"Outer function: \",a)\n",
    "outer_function()\n",
    "#Here, we do not declare that the variable a inside the nested function is nonlocal. \n",
    "#Hence, a new local variable with the same name is created, but the non-local a is not modified as seen in our output."
   ]
  },
  {
   "cell_type": "code",
   "execution_count": 26,
   "metadata": {},
   "outputs": [],
   "source": [
    "#pass"
   ]
  },
  {
   "cell_type": "raw",
   "metadata": {},
   "source": [
    "pass is a null statement in Python. Nothing happens when it is executed. It is used as a placeholder.\n",
    "\n",
    "Suppose we have a function that is not implemented yet, but we want to implement it in the future. Simply writing,"
   ]
  },
  {
   "cell_type": "code",
   "execution_count": 27,
   "metadata": {},
   "outputs": [
    {
     "ename": "SyntaxError",
     "evalue": "unexpected EOF while parsing (<ipython-input-27-f63a547c713a>, line 1)",
     "output_type": "error",
     "traceback": [
      "\u001b[1;36m  File \u001b[1;32m\"<ipython-input-27-f63a547c713a>\"\u001b[1;36m, line \u001b[1;32m1\u001b[0m\n\u001b[1;33m    def function(args):\u001b[0m\n\u001b[1;37m                       ^\u001b[0m\n\u001b[1;31mSyntaxError\u001b[0m\u001b[1;31m:\u001b[0m unexpected EOF while parsing\n"
     ]
    }
   ],
   "source": [
    "def function(args):"
   ]
  },
  {
   "cell_type": "raw",
   "metadata": {},
   "source": [
    "in the middle of a program will give us IndentationError. Instead of this, we construct a blank body with the pass statement."
   ]
  },
  {
   "cell_type": "code",
   "execution_count": 28,
   "metadata": {},
   "outputs": [],
   "source": [
    "def function(args):\n",
    "    pass"
   ]
  },
  {
   "cell_type": "code",
   "execution_count": 29,
   "metadata": {},
   "outputs": [],
   "source": [
    "#We can do the same thing in an empty class as well.\n",
    "class example:\n",
    "    pass"
   ]
  },
  {
   "cell_type": "code",
   "execution_count": 30,
   "metadata": {},
   "outputs": [],
   "source": [
    "#return"
   ]
  },
  {
   "cell_type": "raw",
   "metadata": {},
   "source": [
    "return statement is used inside a function to exit it and return a value.\n",
    "\n",
    "If we do not return a value explicitly, None is returned automatically. This is verified with the following example."
   ]
  },
  {
   "cell_type": "code",
   "execution_count": 31,
   "metadata": {},
   "outputs": [
    {
     "name": "stdout",
     "output_type": "stream",
     "text": [
      "10\n",
      "None\n"
     ]
    }
   ],
   "source": [
    "def func_return():\n",
    "    a = 10\n",
    "    return a\n",
    "def no_return():\n",
    "    a = 10\n",
    "print(func_return())\n",
    "print(no_return())"
   ]
  },
  {
   "cell_type": "code",
   "execution_count": 32,
   "metadata": {},
   "outputs": [],
   "source": [
    "#while"
   ]
  },
  {
   "cell_type": "raw",
   "metadata": {},
   "source": [
    "while is used for looping in Python.\n",
    "\n",
    "The statements inside a while loop continue to execute until the condition for the while loop evaluates to False or a break statement is encountered. Following program illustrates this."
   ]
  },
  {
   "cell_type": "code",
   "execution_count": 1,
   "metadata": {},
   "outputs": [
    {
     "name": "stdout",
     "output_type": "stream",
     "text": [
      "5\n",
      "4\n",
      "3\n",
      "2\n",
      "1\n"
     ]
    }
   ],
   "source": [
    "i = 5\n",
    "while(i):\n",
    "    print(i)\n",
    "    i=i-1\n",
    "    \n",
    "    #Note that 0 is equal to False."
   ]
  },
  {
   "cell_type": "code",
   "execution_count": 2,
   "metadata": {},
   "outputs": [],
   "source": [
    "#with"
   ]
  },
  {
   "cell_type": "raw",
   "metadata": {},
   "source": [
    "with statement is used to wrap the execution of a block of code within methods defined by the context manager.\n",
    "\n",
    "Context manager is a class that implements __enter__ and __exit__ methods. Use of with statement ensures that the __exit__ method is called at the end of the nested block. This concept is similar to the use of try…finally block. Here, is an example."
   ]
  },
  {
   "cell_type": "code",
   "execution_count": 3,
   "metadata": {},
   "outputs": [],
   "source": [
    "with open('example.txt', 'w') as my_file:\n",
    "    my_file.write('Hello world!')"
   ]
  },
  {
   "cell_type": "raw",
   "metadata": {},
   "source": [
    "This example writes the text Hello world! to the file example.txt. File objects have __enter__ and __exit__ method defined within them, so they act as their own context manager.\n",
    "\n",
    "First the __enter__ method is called, then the code within with statement is executed and finally the __exit__ method is called. __exit__ method is called even if there is an error. It basically closes the file stream."
   ]
  },
  {
   "cell_type": "code",
   "execution_count": 4,
   "metadata": {},
   "outputs": [],
   "source": [
    "#yield"
   ]
  },
  {
   "cell_type": "raw",
   "metadata": {},
   "source": [
    "yield is used inside a function like a return statement. But yield returns a generator.\n",
    "\n",
    "Generator is an iterator that generates one item at a time. A large list of value will take up a lot of memory. Generators are useful in this situation as it generates only one value at a time instead of storing all the values in memory. For example,"
   ]
  },
  {
   "cell_type": "code",
   "execution_count": 5,
   "metadata": {},
   "outputs": [],
   "source": [
    "g = (2**x for x in range(100))\n",
    "#will create a generator g which generates powers of 2 up to the number two raised to the power 99"
   ]
  },
  {
   "cell_type": "code",
   "execution_count": 6,
   "metadata": {},
   "outputs": [
    {
     "data": {
      "text/plain": [
       "<generator object <genexpr> at 0x000001C27AFB8E58>"
      ]
     },
     "execution_count": 6,
     "metadata": {},
     "output_type": "execute_result"
    }
   ],
   "source": [
    "g"
   ]
  },
  {
   "cell_type": "code",
   "execution_count": 9,
   "metadata": {},
   "outputs": [
    {
     "data": {
      "text/plain": [
       "4"
      ]
     },
     "execution_count": 9,
     "metadata": {},
     "output_type": "execute_result"
    }
   ],
   "source": [
    "#We can generate the numbers using the next() function as shown below.\n",
    "next(g)"
   ]
  },
  {
   "cell_type": "code",
   "execution_count": 18,
   "metadata": {},
   "outputs": [
    {
     "name": "stdout",
     "output_type": "stream",
     "text": [
      "0\n",
      "1\n",
      "4\n",
      "9\n",
      "16\n",
      "25\n"
     ]
    }
   ],
   "source": [
    "#his type of generator is returned by the yield statement from a function. Here is an example.\n",
    "def generator():\n",
    "    for i in range(6):\n",
    "        yield i*i\n",
    "g = generator()\n",
    "for i in g:\n",
    "    print(i)"
   ]
  },
  {
   "cell_type": "raw",
   "metadata": {},
   "source": [
    "Here, the function generator() returns a generator that generates square of numbers from 0 to 5. This is printed in the for loop."
   ]
  },
  {
   "cell_type": "code",
   "execution_count": 19,
   "metadata": {},
   "outputs": [],
   "source": [
    "#Async and #await "
   ]
  },
  {
   "cell_type": "raw",
   "metadata": {},
   "source": [
    "coroutine\n",
    "Coroutines are a more generalized form of subroutines. Subroutines are entered at one point and exited at another point. Coroutines can be entered, exited, and resumed at many different points. They can be implemented with the async def statement."
   ]
  },
  {
   "cell_type": "raw",
   "metadata": {},
   "source": [
    "#await\n",
    "Suspend the execution of coroutine on an awaitable object. Can only be used inside a coroutine function.\n",
    "\n",
    "await_expr ::=  \"await\" primary"
   ]
  },
  {
   "cell_type": "code",
   "execution_count": 21,
   "metadata": {},
   "outputs": [],
   "source": [
    "#async\n",
    "#An asynchronous iterable is able to call asynchronous code in its iter implementation, and asynchronous iterator can call asynchronous code in its next method.\n",
    "\n",
    "#The async for statement allows convenient iteration over asynchronous iterators.\n",
    "\n",
    "#The following code:\n",
    "async def commit(session, data):\n",
    "    ...\n",
    "\n",
    "    async with session.transaction():\n",
    "        ...\n",
    "        await session.update(data)\n",
    "        ..."
   ]
  },
  {
   "cell_type": "code",
   "execution_count": 20,
   "metadata": {},
   "outputs": [],
   "source": [
    "#break point function"
   ]
  },
  {
   "cell_type": "raw",
   "metadata": {},
   "source": [
    "breakpoint(*args, **kws)\n",
    "This function drops you into the debugger at the call site. Specifically, it calls sys.breakpointhook(), passing args and kws straight through. By default, sys.breakpointhook() calls pdb.set_trace() expecting no arguments. In this case, it is purely a convenience function so you don’t have to explicitly import pdb or type as much code to enter the debugger. However, sys.breakpointhook() can be set to some other function and breakpoint() will automatically call that, allowing you to drop into the debugger of choice."
   ]
  },
  {
   "cell_type": "code",
   "execution_count": null,
   "metadata": {},
   "outputs": [],
   "source": []
  }
 ],
 "metadata": {
  "kernelspec": {
   "display_name": "Python 3",
   "language": "python",
   "name": "python3"
  },
  "language_info": {
   "codemirror_mode": {
    "name": "ipython",
    "version": 3
   },
   "file_extension": ".py",
   "mimetype": "text/x-python",
   "name": "python",
   "nbconvert_exporter": "python",
   "pygments_lexer": "ipython3",
   "version": "3.7.3"
  }
 },
 "nbformat": 4,
 "nbformat_minor": 2
}
